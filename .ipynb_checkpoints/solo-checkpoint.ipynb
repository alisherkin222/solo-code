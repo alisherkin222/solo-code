{
 "cells": [
  {
   "metadata": {
    "jupyter": {
     "is_executing": true
    }
   },
   "cell_type": "code",
   "source": [
    "import urllib.request\n",
    "url = \"https://github.com/open-mmlab/mmdetection/blob/main/configs/solo \"\n",
    "urllib.request.urlretrieve(url, \"checkpoints/solov2_r50_fpn_1x_coco.pth\")\n"
   ],
   "id": "241add1acbbf3429",
   "outputs": [],
   "execution_count": null
  },
  {
   "metadata": {
    "jupyter": {
     "is_executing": true
    }
   },
   "cell_type": "code",
   "source": [
    "import mmdet.apis\n",
    "print(dir(mmdet.apis))  # This will list all available functions\n"
   ],
   "id": "89170272c533fb9",
   "outputs": [],
   "execution_count": null
  },
  {
   "metadata": {
    "jupyter": {
     "is_executing": true
    }
   },
   "cell_type": "code",
   "source": [
    "import os\n",
    "import mmcv\n",
    "from mmdet.datasets import build_dataset\n",
    "from mmdet.apis import train_detector\n",
    "from mmdet.models import build_detector\n",
    "from mmcv import Config\n",
    "\n",
    "# Путь к директории с данными\n",
    "data_path = r'C:\\Users\\AbayM\\Downloads\\solo\\SpaceVela 3D-CV 1 class fail.v16i.coco'\n",
    "\n",
    "# Загружаем конфигурационный файл для SOLOv2\n",
    "config_file = 'configs/solo/solo_r50_fpn_1x_coco.py'  # Путь к конфигу SOLOv2, пример с backbone ResNet50\n",
    "cfg = Config.fromfile(config_file)\n",
    "\n",
    "# Указываем путь к данным\n",
    "cfg.data.train.dataset.data_root = data_path\n",
    "cfg.data.test.dataset.data_root = data_path\n",
    "cfg.data.val.dataset.data_root = data_path\n",
    "\n",
    "# Указываем путь к JSON файлам для train, test и valid\n",
    "cfg.data.train.ann_file = os.path.join(data_path, 'train', 'annotated.json')\n",
    "cfg.data.val.ann_file = os.path.join(data_path, 'valid', 'annotated.json')\n",
    "cfg.data.test.ann_file = os.path.join(data_path, 'test', 'annotated.json')\n",
    "\n",
    "# Настройка пути для сохранения модели\n",
    "cfg.work_dir = './work_dirs/solo'\n",
    "\n",
    "# Стартуем обучение\n",
    "cfg.gpus = 1  # Используем одну видеокарту\n",
    "cfg.runner.max_epochs = 12  # Устанавливаем количество эпох\n",
    "\n",
    "# Строим модель\n",
    "model = build_detector(cfg.model)\n",
    "datasets = [build_dataset(cfg.data.train)]\n",
    "train_detector(model, datasets, cfg, distributed=False, validate=True)\n"
   ],
   "id": "f70b0aabe43882ce",
   "outputs": [],
   "execution_count": null
  },
  {
   "metadata": {
    "ExecuteTime": {
     "end_time": "2025-02-25T14:59:13.682682Z",
     "start_time": "2025-02-25T14:59:13.661985Z"
    }
   },
   "cell_type": "code",
   "source": [
    "from SOLO.mmdet.models import build_detector\n",
    "from mmdet.apis import inference_detector, show_result_pyplot\n",
    "from mmcv import Config\n",
    "import mmcv\n",
    "\n",
    "# Load the config and model checkpoint\n",
    "cfg = Config.fromfile('C:/Users/AbayM/Downloads/solo/mmdetection/configs/solov2/solov2_r50_fpn_1x_coco.py')\n",
    "cfg.load_from = 'C:/Users/AbayM/Downloads/solo/work_dirs/solov2_train/latest.pth'  # Adjust to the path where your trained model is saved\n",
    "\n",
    "# Build the model for inference\n",
    "model = build_detector(cfg.model, test_cfg=cfg.test_cfg)\n",
    "checkpoint = mmcv.runner.load_checkpoint(model, cfg.load_from)\n",
    "\n",
    "# Inference on a test image\n",
    "img = 'C:/path/to/test/image.jpg'  # Replace with the actual test image path\n",
    "result = inference_detector(model, img)\n",
    "\n",
    "# Show results\n",
    "show_result_pyplot(model, img, result)\n"
   ],
   "id": "c8fbba057dcd2666",
   "outputs": [
    {
     "ename": "AssertionError",
     "evalue": "MMCV==2.2.0 is used but incompatible. Please install mmcv>=2.0.0rc4, <2.2.0.",
     "output_type": "error",
     "traceback": [
      "\u001B[1;31m---------------------------------------------------------------------------\u001B[0m",
      "\u001B[1;31mAssertionError\u001B[0m                            Traceback (most recent call last)",
      "Cell \u001B[1;32mIn[17], line 1\u001B[0m\n\u001B[1;32m----> 1\u001B[0m \u001B[38;5;28;01mfrom\u001B[39;00m\u001B[38;5;250m \u001B[39m\u001B[38;5;21;01mmmdet\u001B[39;00m\u001B[38;5;21;01m.\u001B[39;00m\u001B[38;5;21;01mapis\u001B[39;00m\u001B[38;5;250m \u001B[39m\u001B[38;5;28;01mimport\u001B[39;00m inference_detector, show_result_pyplot\n\u001B[0;32m      2\u001B[0m \u001B[38;5;28;01mfrom\u001B[39;00m\u001B[38;5;250m \u001B[39m\u001B[38;5;21;01mmmcv\u001B[39;00m\u001B[38;5;250m \u001B[39m\u001B[38;5;28;01mimport\u001B[39;00m Config\n\u001B[0;32m      3\u001B[0m \u001B[38;5;28;01mimport\u001B[39;00m\u001B[38;5;250m \u001B[39m\u001B[38;5;21;01mmmcv\u001B[39;00m\n",
      "File \u001B[1;32m~\\anaconda3\\envs\\solo\\Lib\\site-packages\\mmdet\\__init__.py:16\u001B[0m\n\u001B[0;32m     13\u001B[0m mmengine_maximum_version \u001B[38;5;241m=\u001B[39m \u001B[38;5;124m'\u001B[39m\u001B[38;5;124m1.0.0\u001B[39m\u001B[38;5;124m'\u001B[39m\n\u001B[0;32m     14\u001B[0m mmengine_version \u001B[38;5;241m=\u001B[39m digit_version(mmengine\u001B[38;5;241m.\u001B[39m__version__)\n\u001B[1;32m---> 16\u001B[0m \u001B[38;5;28;01massert\u001B[39;00m (mmcv_version \u001B[38;5;241m>\u001B[39m\u001B[38;5;241m=\u001B[39m digit_version(mmcv_minimum_version)\n\u001B[0;32m     17\u001B[0m         \u001B[38;5;129;01mand\u001B[39;00m mmcv_version \u001B[38;5;241m<\u001B[39m digit_version(mmcv_maximum_version)), \\\n\u001B[0;32m     18\u001B[0m     \u001B[38;5;124mf\u001B[39m\u001B[38;5;124m'\u001B[39m\u001B[38;5;124mMMCV==\u001B[39m\u001B[38;5;132;01m{\u001B[39;00mmmcv\u001B[38;5;241m.\u001B[39m__version__\u001B[38;5;132;01m}\u001B[39;00m\u001B[38;5;124m is used but incompatible. \u001B[39m\u001B[38;5;124m'\u001B[39m \\\n\u001B[0;32m     19\u001B[0m     \u001B[38;5;124mf\u001B[39m\u001B[38;5;124m'\u001B[39m\u001B[38;5;124mPlease install mmcv>=\u001B[39m\u001B[38;5;132;01m{\u001B[39;00mmmcv_minimum_version\u001B[38;5;132;01m}\u001B[39;00m\u001B[38;5;124m, <\u001B[39m\u001B[38;5;132;01m{\u001B[39;00mmmcv_maximum_version\u001B[38;5;132;01m}\u001B[39;00m\u001B[38;5;124m.\u001B[39m\u001B[38;5;124m'\u001B[39m\n\u001B[0;32m     21\u001B[0m \u001B[38;5;28;01massert\u001B[39;00m (mmengine_version \u001B[38;5;241m>\u001B[39m\u001B[38;5;241m=\u001B[39m digit_version(mmengine_minimum_version)\n\u001B[0;32m     22\u001B[0m         \u001B[38;5;129;01mand\u001B[39;00m mmengine_version \u001B[38;5;241m<\u001B[39m digit_version(mmengine_maximum_version)), \\\n\u001B[0;32m     23\u001B[0m     \u001B[38;5;124mf\u001B[39m\u001B[38;5;124m'\u001B[39m\u001B[38;5;124mMMEngine==\u001B[39m\u001B[38;5;132;01m{\u001B[39;00mmmengine\u001B[38;5;241m.\u001B[39m__version__\u001B[38;5;132;01m}\u001B[39;00m\u001B[38;5;124m is used but incompatible. \u001B[39m\u001B[38;5;124m'\u001B[39m \\\n\u001B[0;32m     24\u001B[0m     \u001B[38;5;124mf\u001B[39m\u001B[38;5;124m'\u001B[39m\u001B[38;5;124mPlease install mmengine>=\u001B[39m\u001B[38;5;132;01m{\u001B[39;00mmmengine_minimum_version\u001B[38;5;132;01m}\u001B[39;00m\u001B[38;5;124m, \u001B[39m\u001B[38;5;124m'\u001B[39m \\\n\u001B[0;32m     25\u001B[0m     \u001B[38;5;124mf\u001B[39m\u001B[38;5;124m'\u001B[39m\u001B[38;5;124m<\u001B[39m\u001B[38;5;132;01m{\u001B[39;00mmmengine_maximum_version\u001B[38;5;132;01m}\u001B[39;00m\u001B[38;5;124m.\u001B[39m\u001B[38;5;124m'\u001B[39m\n\u001B[0;32m     27\u001B[0m __all__ \u001B[38;5;241m=\u001B[39m [\u001B[38;5;124m'\u001B[39m\u001B[38;5;124m__version__\u001B[39m\u001B[38;5;124m'\u001B[39m, \u001B[38;5;124m'\u001B[39m\u001B[38;5;124mversion_info\u001B[39m\u001B[38;5;124m'\u001B[39m, \u001B[38;5;124m'\u001B[39m\u001B[38;5;124mdigit_version\u001B[39m\u001B[38;5;124m'\u001B[39m]\n",
      "\u001B[1;31mAssertionError\u001B[0m: MMCV==2.2.0 is used but incompatible. Please install mmcv>=2.0.0rc4, <2.2.0."
     ]
    }
   ],
   "execution_count": 17
  },
  {
   "metadata": {
    "ExecuteTime": {
     "end_time": "2025-02-25T13:07:53.983720Z",
     "start_time": "2025-02-25T13:07:53.978610Z"
    }
   },
   "cell_type": "code",
   "source": [
    "# Гиперпараметры обучения\n",
    "num_classes = 1  # У нас всего 1 класс \"fail\"\n",
    "batch_size = 2\n",
    "learning_rate = 0.01\n",
    "num_epochs = 50\n",
    "seed = 42  # Фиксируем random_state для воспроизводимости\n"
   ],
   "id": "f509abb0c35def2",
   "outputs": [],
   "execution_count": 6
  },
  {
   "metadata": {
    "jupyter": {
     "is_executing": true
    }
   },
   "cell_type": "code",
   "source": [
    "_base_ = './solov2_r50_fpn_1x_coco.py'\n",
    "\n",
    "dataset_type = 'CocoDataset'\n",
    "data_root = 'C:/Users/AbayM/Downloads/solo/'\n",
    "\n",
    "classes = ('fail',)\n",
    "\n",
    "data = dict(\n",
    "    train=dict(\n",
    "        type=dataset_type,\n",
    "        ann_file=data_root + 'train/_annotations.coco.json',\n",
    "        img_prefix=data_root + 'train/',\n",
    "        classes=classes\n",
    "    ),\n",
    "    val=dict(\n",
    "        type=dataset_type,\n",
    "        ann_file=data_root + 'valid/_annotations.coco.json',\n",
    "        img_prefix=data_root + 'valid/',\n",
    "        classes=classes\n",
    "    ),\n",
    "    test=dict(\n",
    "        type=dataset_type,\n",
    "        ann_file=data_root + 'test/_annotations.coco.json',\n",
    "        img_prefix=data_root + 'test/',\n",
    "        classes=classes\n",
    "    )\n",
    ")\n",
    "\n",
    "model = dict(\n",
    "    roi_head=dict(\n",
    "        bbox_head=dict(num_classes=1),\n",
    "        mask_head=dict(num_classes=1)\n",
    "    )\n",
    ")\n",
    "\n",
    "random_seed = 42  # Фиксируем random_state\n"
   ],
   "id": "c23e08bbd727b77d",
   "outputs": [],
   "execution_count": null
  },
  {
   "metadata": {},
   "cell_type": "code",
   "outputs": [],
   "execution_count": null,
   "source": "",
   "id": "cf5aa9b4525d2763"
  }
 ],
 "metadata": {
  "kernelspec": {
   "display_name": "Python 3",
   "language": "python",
   "name": "python3"
  },
  "language_info": {
   "codemirror_mode": {
    "name": "ipython",
    "version": 2
   },
   "file_extension": ".py",
   "mimetype": "text/x-python",
   "name": "python",
   "nbconvert_exporter": "python",
   "pygments_lexer": "ipython2",
   "version": "2.7.6"
  }
 },
 "nbformat": 4,
 "nbformat_minor": 5
}
