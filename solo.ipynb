{
 "cells": [
  {
   "cell_type": "code",
   "execution_count": null,
   "id": "241add1acbbf3429",
   "metadata": {
    "jupyter": {
     "is_executing": true
    }
   },
   "outputs": [],
   "source": [
    "import urllib.request\n",
    "url = \"https://github.com/open-mmlab/mmdetection/blob/main/configs/solo \"\n",
    "urllib.request.urlretrieve(url, \"checkpoints/solov2_r50_fpn_1x_coco.pth\")\n"
   ]
  },
  {
   "cell_type": "code",
   "execution_count": 1,
   "id": "89170272c533fb9",
   "metadata": {
    "jupyter": {
     "is_executing": true
    }
   },
   "outputs": [
    {
     "name": "stderr",
     "output_type": "stream",
     "text": [
      "C:\\Users\\AbayM\\anaconda3\\Lib\\site-packages\\mmcv\\__init__.py:20: UserWarning: On January 1, 2023, MMCV will release v2.0.0, in which it will remove components related to the training process and add a data transformation module. In addition, it will rename the package names mmcv to mmcv-lite and mmcv-full to mmcv. See https://github.com/open-mmlab/mmcv/blob/master/docs/en/compatibility.md for more details.\n",
      "  warnings.warn(\n"
     ]
    },
    {
     "name": "stdout",
     "output_type": "stream",
     "text": [
      "['__all__', '__builtins__', '__cached__', '__doc__', '__file__', '__loader__', '__name__', '__package__', '__path__', '__spec__', 'async_inference_detector', 'get_root_logger', 'inference', 'inference_detector', 'init_detector', 'init_random_seed', 'multi_gpu_test', 'set_random_seed', 'show_result_pyplot', 'single_gpu_test', 'test', 'train', 'train_detector']\n"
     ]
    }
   ],
   "source": [
    "import mmdet.apis\n",
    "print(dir(mmdet.apis))  # This will list all available functions\n"
   ]
  },
  {
   "cell_type": "code",
   "execution_count": 11,
   "id": "3868b5bc-81d1-4456-b46c-5c31c3afea72",
   "metadata": {},
   "outputs": [
    {
     "name": "stdout",
     "output_type": "stream",
     "text": [
      "{'imgs_per_gpu': 2, 'workers_per_gpu': 2, 'train': {'type': 'CocoDataset', 'ann_file': 'data/coco/annotations/instances_train2017.json', 'img_prefix': 'data/coco/train2017/', 'pipeline': [{'type': 'LoadImageFromFile'}, {'type': 'LoadAnnotations', 'with_bbox': True, 'with_mask': True}, {'type': 'Resize', 'img_scale': [(1333, 800), (1333, 768), (1333, 736), (1333, 704), (1333, 672), (1333, 640)], 'multiscale_mode': 'value', 'keep_ratio': True}, {'type': 'RandomFlip', 'flip_ratio': 0.5}, {'type': 'Normalize', 'mean': [123.675, 116.28, 103.53], 'std': [58.395, 57.12, 57.375], 'to_rgb': True}, {'type': 'Pad', 'size_divisor': 32}, {'type': 'DefaultFormatBundle'}, {'type': 'Collect', 'keys': ['img', 'gt_bboxes', 'gt_labels', 'gt_masks']}]}, 'val': {'type': 'CocoDataset', 'ann_file': 'data/coco/annotations/instances_val2017.json', 'img_prefix': 'data/coco/val2017/', 'pipeline': [{'type': 'LoadImageFromFile'}, {'type': 'MultiScaleFlipAug', 'img_scale': (1333, 800), 'flip': False, 'transforms': [{'type': 'Resize', 'keep_ratio': True}, {'type': 'RandomFlip'}, {'type': 'Normalize', 'mean': [123.675, 116.28, 103.53], 'std': [58.395, 57.12, 57.375], 'to_rgb': True}, {'type': 'Pad', 'size_divisor': 32}, {'type': 'ImageToTensor', 'keys': ['img']}, {'type': 'Collect', 'keys': ['img']}]}]}, 'test': {'type': 'CocoDataset', 'ann_file': 'data/coco/annotations/instances_val2017.json', 'img_prefix': 'data/coco/val2017/', 'pipeline': [{'type': 'LoadImageFromFile'}, {'type': 'MultiScaleFlipAug', 'img_scale': (1333, 800), 'flip': False, 'transforms': [{'type': 'Resize', 'keep_ratio': True}, {'type': 'RandomFlip'}, {'type': 'Normalize', 'mean': [123.675, 116.28, 103.53], 'std': [58.395, 57.12, 57.375], 'to_rgb': True}, {'type': 'Pad', 'size_divisor': 32}, {'type': 'ImageToTensor', 'keys': ['img']}, {'type': 'Collect', 'keys': ['img']}]}]}}\n"
     ]
    }
   ],
   "source": [
    "print(cfg.data)\n"
   ]
  },
  {
   "cell_type": "code",
   "execution_count": 43,
   "id": "f70b0aabe43882ce",
   "metadata": {
    "jupyter": {
     "is_executing": true
    }
   },
   "outputs": [
    {
     "ename": "TypeError",
     "evalue": "SOLO: SOLOHead: SOLOHead.__init__() got an unexpected keyword argument 'seg_feat_channels'",
     "output_type": "error",
     "traceback": [
      "\u001b[1;31m---------------------------------------------------------------------------\u001b[0m",
      "\u001b[1;31mTypeError\u001b[0m                                 Traceback (most recent call last)",
      "File \u001b[1;32m~\\anaconda3\\Lib\\site-packages\\mmcv\\utils\\registry.py:69\u001b[0m, in \u001b[0;36mbuild_from_cfg\u001b[1;34m(cfg, registry, default_args)\u001b[0m\n\u001b[0;32m     68\u001b[0m \u001b[38;5;28;01mtry\u001b[39;00m:\n\u001b[1;32m---> 69\u001b[0m     \u001b[38;5;28;01mreturn\u001b[39;00m obj_cls(\u001b[38;5;241m*\u001b[39m\u001b[38;5;241m*\u001b[39margs)\n\u001b[0;32m     70\u001b[0m \u001b[38;5;28;01mexcept\u001b[39;00m \u001b[38;5;167;01mException\u001b[39;00m \u001b[38;5;28;01mas\u001b[39;00m e:\n\u001b[0;32m     71\u001b[0m     \u001b[38;5;66;03m# Normal TypeError does not print class name.\u001b[39;00m\n",
      "\u001b[1;31mTypeError\u001b[0m: SOLOHead.__init__() got an unexpected keyword argument 'seg_feat_channels'",
      "\nDuring handling of the above exception, another exception occurred:\n",
      "\u001b[1;31mTypeError\u001b[0m                                 Traceback (most recent call last)",
      "File \u001b[1;32m~\\anaconda3\\Lib\\site-packages\\mmcv\\utils\\registry.py:69\u001b[0m, in \u001b[0;36mbuild_from_cfg\u001b[1;34m(cfg, registry, default_args)\u001b[0m\n\u001b[0;32m     68\u001b[0m \u001b[38;5;28;01mtry\u001b[39;00m:\n\u001b[1;32m---> 69\u001b[0m     \u001b[38;5;28;01mreturn\u001b[39;00m obj_cls(\u001b[38;5;241m*\u001b[39m\u001b[38;5;241m*\u001b[39margs)\n\u001b[0;32m     70\u001b[0m \u001b[38;5;28;01mexcept\u001b[39;00m \u001b[38;5;167;01mException\u001b[39;00m \u001b[38;5;28;01mas\u001b[39;00m e:\n\u001b[0;32m     71\u001b[0m     \u001b[38;5;66;03m# Normal TypeError does not print class name.\u001b[39;00m\n",
      "File \u001b[1;32m~\\anaconda3\\Lib\\site-packages\\mmdet\\models\\detectors\\solo.py:22\u001b[0m, in \u001b[0;36mSOLO.__init__\u001b[1;34m(self, backbone, neck, bbox_head, mask_head, train_cfg, test_cfg, init_cfg, pretrained)\u001b[0m\n\u001b[0;32m     13\u001b[0m \u001b[38;5;28;01mdef\u001b[39;00m \u001b[38;5;21m__init__\u001b[39m(\u001b[38;5;28mself\u001b[39m,\n\u001b[0;32m     14\u001b[0m              backbone,\n\u001b[0;32m     15\u001b[0m              neck\u001b[38;5;241m=\u001b[39m\u001b[38;5;28;01mNone\u001b[39;00m,\n\u001b[1;32m   (...)\u001b[0m\n\u001b[0;32m     20\u001b[0m              init_cfg\u001b[38;5;241m=\u001b[39m\u001b[38;5;28;01mNone\u001b[39;00m,\n\u001b[0;32m     21\u001b[0m              pretrained\u001b[38;5;241m=\u001b[39m\u001b[38;5;28;01mNone\u001b[39;00m):\n\u001b[1;32m---> 22\u001b[0m     \u001b[38;5;28msuper\u001b[39m()\u001b[38;5;241m.\u001b[39m\u001b[38;5;21m__init__\u001b[39m(\n\u001b[0;32m     23\u001b[0m         backbone\u001b[38;5;241m=\u001b[39mbackbone,\n\u001b[0;32m     24\u001b[0m         neck\u001b[38;5;241m=\u001b[39mneck,\n\u001b[0;32m     25\u001b[0m         bbox_head\u001b[38;5;241m=\u001b[39mbbox_head,\n\u001b[0;32m     26\u001b[0m         mask_head\u001b[38;5;241m=\u001b[39mmask_head,\n\u001b[0;32m     27\u001b[0m         train_cfg\u001b[38;5;241m=\u001b[39mtrain_cfg,\n\u001b[0;32m     28\u001b[0m         test_cfg\u001b[38;5;241m=\u001b[39mtest_cfg,\n\u001b[0;32m     29\u001b[0m         init_cfg\u001b[38;5;241m=\u001b[39minit_cfg,\n\u001b[0;32m     30\u001b[0m         pretrained\u001b[38;5;241m=\u001b[39mpretrained)\n",
      "File \u001b[1;32m~\\anaconda3\\Lib\\site-packages\\mmdet\\models\\detectors\\single_stage_instance_seg.py:43\u001b[0m, in \u001b[0;36mSingleStageInstanceSegmentor.__init__\u001b[1;34m(self, backbone, neck, bbox_head, mask_head, train_cfg, test_cfg, pretrained, init_cfg)\u001b[0m\n\u001b[0;32m     42\u001b[0m     bbox_head\u001b[38;5;241m.\u001b[39mupdate(test_cfg\u001b[38;5;241m=\u001b[39mcopy\u001b[38;5;241m.\u001b[39mdeepcopy(test_cfg))\n\u001b[1;32m---> 43\u001b[0m     \u001b[38;5;28mself\u001b[39m\u001b[38;5;241m.\u001b[39mbbox_head \u001b[38;5;241m=\u001b[39m build_head(bbox_head)\n\u001b[0;32m     44\u001b[0m \u001b[38;5;28;01melse\u001b[39;00m:\n",
      "File \u001b[1;32m~\\anaconda3\\Lib\\site-packages\\mmdet\\models\\builder.py:40\u001b[0m, in \u001b[0;36mbuild_head\u001b[1;34m(cfg)\u001b[0m\n\u001b[0;32m     39\u001b[0m \u001b[38;5;250m\u001b[39m\u001b[38;5;124;03m\"\"\"Build head.\"\"\"\u001b[39;00m\n\u001b[1;32m---> 40\u001b[0m \u001b[38;5;28;01mreturn\u001b[39;00m HEADS\u001b[38;5;241m.\u001b[39mbuild(cfg)\n",
      "File \u001b[1;32m~\\anaconda3\\Lib\\site-packages\\mmcv\\utils\\registry.py:237\u001b[0m, in \u001b[0;36mRegistry.build\u001b[1;34m(self, *args, **kwargs)\u001b[0m\n\u001b[0;32m    236\u001b[0m \u001b[38;5;28;01mdef\u001b[39;00m \u001b[38;5;21mbuild\u001b[39m(\u001b[38;5;28mself\u001b[39m, \u001b[38;5;241m*\u001b[39margs, \u001b[38;5;241m*\u001b[39m\u001b[38;5;241m*\u001b[39mkwargs):\n\u001b[1;32m--> 237\u001b[0m     \u001b[38;5;28;01mreturn\u001b[39;00m \u001b[38;5;28mself\u001b[39m\u001b[38;5;241m.\u001b[39mbuild_func(\u001b[38;5;241m*\u001b[39margs, \u001b[38;5;241m*\u001b[39m\u001b[38;5;241m*\u001b[39mkwargs, registry\u001b[38;5;241m=\u001b[39m\u001b[38;5;28mself\u001b[39m)\n",
      "File \u001b[1;32m~\\anaconda3\\Lib\\site-packages\\mmcv\\cnn\\builder.py:27\u001b[0m, in \u001b[0;36mbuild_model_from_cfg\u001b[1;34m(cfg, registry, default_args)\u001b[0m\n\u001b[0;32m     26\u001b[0m \u001b[38;5;28;01melse\u001b[39;00m:\n\u001b[1;32m---> 27\u001b[0m     \u001b[38;5;28;01mreturn\u001b[39;00m build_from_cfg(cfg, registry, default_args)\n",
      "File \u001b[1;32m~\\anaconda3\\Lib\\site-packages\\mmcv\\utils\\registry.py:72\u001b[0m, in \u001b[0;36mbuild_from_cfg\u001b[1;34m(cfg, registry, default_args)\u001b[0m\n\u001b[0;32m     70\u001b[0m \u001b[38;5;28;01mexcept\u001b[39;00m \u001b[38;5;167;01mException\u001b[39;00m \u001b[38;5;28;01mas\u001b[39;00m e:\n\u001b[0;32m     71\u001b[0m     \u001b[38;5;66;03m# Normal TypeError does not print class name.\u001b[39;00m\n\u001b[1;32m---> 72\u001b[0m     \u001b[38;5;28;01mraise\u001b[39;00m \u001b[38;5;28mtype\u001b[39m(e)(\u001b[38;5;124mf\u001b[39m\u001b[38;5;124m'\u001b[39m\u001b[38;5;132;01m{\u001b[39;00mobj_cls\u001b[38;5;241m.\u001b[39m\u001b[38;5;18m__name__\u001b[39m\u001b[38;5;132;01m}\u001b[39;00m\u001b[38;5;124m: \u001b[39m\u001b[38;5;132;01m{\u001b[39;00me\u001b[38;5;132;01m}\u001b[39;00m\u001b[38;5;124m'\u001b[39m)\n",
      "\u001b[1;31mTypeError\u001b[0m: SOLOHead: SOLOHead.__init__() got an unexpected keyword argument 'seg_feat_channels'",
      "\nDuring handling of the above exception, another exception occurred:\n",
      "\u001b[1;31mTypeError\u001b[0m                                 Traceback (most recent call last)",
      "Cell \u001b[1;32mIn[43], line 39\u001b[0m\n\u001b[0;32m     36\u001b[0m cfg\u001b[38;5;241m.\u001b[39mrunner\u001b[38;5;241m.\u001b[39mmax_epochs \u001b[38;5;241m=\u001b[39m \u001b[38;5;241m12\u001b[39m  \u001b[38;5;66;03m# Устанавливаем количество эпох\u001b[39;00m\n\u001b[0;32m     38\u001b[0m \u001b[38;5;66;03m# Строим модель\u001b[39;00m\n\u001b[1;32m---> 39\u001b[0m model \u001b[38;5;241m=\u001b[39m build_detector(cfg\u001b[38;5;241m.\u001b[39mmodel)\n\u001b[0;32m     40\u001b[0m datasets \u001b[38;5;241m=\u001b[39m [build_dataset(cfg\u001b[38;5;241m.\u001b[39mdata\u001b[38;5;241m.\u001b[39mtrain)]\n\u001b[0;32m     41\u001b[0m train_detector(model, datasets, cfg, distributed\u001b[38;5;241m=\u001b[39m\u001b[38;5;28;01mFalse\u001b[39;00m, validate\u001b[38;5;241m=\u001b[39m\u001b[38;5;28;01mTrue\u001b[39;00m)\n",
      "File \u001b[1;32m~\\anaconda3\\Lib\\site-packages\\mmdet\\models\\builder.py:58\u001b[0m, in \u001b[0;36mbuild_detector\u001b[1;34m(cfg, train_cfg, test_cfg)\u001b[0m\n\u001b[0;32m     54\u001b[0m \u001b[38;5;28;01massert\u001b[39;00m cfg\u001b[38;5;241m.\u001b[39mget(\u001b[38;5;124m'\u001b[39m\u001b[38;5;124mtrain_cfg\u001b[39m\u001b[38;5;124m'\u001b[39m) \u001b[38;5;129;01mis\u001b[39;00m \u001b[38;5;28;01mNone\u001b[39;00m \u001b[38;5;129;01mor\u001b[39;00m train_cfg \u001b[38;5;129;01mis\u001b[39;00m \u001b[38;5;28;01mNone\u001b[39;00m, \\\n\u001b[0;32m     55\u001b[0m     \u001b[38;5;124m'\u001b[39m\u001b[38;5;124mtrain_cfg specified in both outer field and model field \u001b[39m\u001b[38;5;124m'\u001b[39m\n\u001b[0;32m     56\u001b[0m \u001b[38;5;28;01massert\u001b[39;00m cfg\u001b[38;5;241m.\u001b[39mget(\u001b[38;5;124m'\u001b[39m\u001b[38;5;124mtest_cfg\u001b[39m\u001b[38;5;124m'\u001b[39m) \u001b[38;5;129;01mis\u001b[39;00m \u001b[38;5;28;01mNone\u001b[39;00m \u001b[38;5;129;01mor\u001b[39;00m test_cfg \u001b[38;5;129;01mis\u001b[39;00m \u001b[38;5;28;01mNone\u001b[39;00m, \\\n\u001b[0;32m     57\u001b[0m     \u001b[38;5;124m'\u001b[39m\u001b[38;5;124mtest_cfg specified in both outer field and model field \u001b[39m\u001b[38;5;124m'\u001b[39m\n\u001b[1;32m---> 58\u001b[0m \u001b[38;5;28;01mreturn\u001b[39;00m DETECTORS\u001b[38;5;241m.\u001b[39mbuild(\n\u001b[0;32m     59\u001b[0m     cfg, default_args\u001b[38;5;241m=\u001b[39m\u001b[38;5;28mdict\u001b[39m(train_cfg\u001b[38;5;241m=\u001b[39mtrain_cfg, test_cfg\u001b[38;5;241m=\u001b[39mtest_cfg))\n",
      "File \u001b[1;32m~\\anaconda3\\Lib\\site-packages\\mmcv\\utils\\registry.py:237\u001b[0m, in \u001b[0;36mRegistry.build\u001b[1;34m(self, *args, **kwargs)\u001b[0m\n\u001b[0;32m    236\u001b[0m \u001b[38;5;28;01mdef\u001b[39;00m \u001b[38;5;21mbuild\u001b[39m(\u001b[38;5;28mself\u001b[39m, \u001b[38;5;241m*\u001b[39margs, \u001b[38;5;241m*\u001b[39m\u001b[38;5;241m*\u001b[39mkwargs):\n\u001b[1;32m--> 237\u001b[0m     \u001b[38;5;28;01mreturn\u001b[39;00m \u001b[38;5;28mself\u001b[39m\u001b[38;5;241m.\u001b[39mbuild_func(\u001b[38;5;241m*\u001b[39margs, \u001b[38;5;241m*\u001b[39m\u001b[38;5;241m*\u001b[39mkwargs, registry\u001b[38;5;241m=\u001b[39m\u001b[38;5;28mself\u001b[39m)\n",
      "File \u001b[1;32m~\\anaconda3\\Lib\\site-packages\\mmcv\\cnn\\builder.py:27\u001b[0m, in \u001b[0;36mbuild_model_from_cfg\u001b[1;34m(cfg, registry, default_args)\u001b[0m\n\u001b[0;32m     25\u001b[0m     \u001b[38;5;28;01mreturn\u001b[39;00m Sequential(\u001b[38;5;241m*\u001b[39mmodules)\n\u001b[0;32m     26\u001b[0m \u001b[38;5;28;01melse\u001b[39;00m:\n\u001b[1;32m---> 27\u001b[0m     \u001b[38;5;28;01mreturn\u001b[39;00m build_from_cfg(cfg, registry, default_args)\n",
      "File \u001b[1;32m~\\anaconda3\\Lib\\site-packages\\mmcv\\utils\\registry.py:72\u001b[0m, in \u001b[0;36mbuild_from_cfg\u001b[1;34m(cfg, registry, default_args)\u001b[0m\n\u001b[0;32m     69\u001b[0m     \u001b[38;5;28;01mreturn\u001b[39;00m obj_cls(\u001b[38;5;241m*\u001b[39m\u001b[38;5;241m*\u001b[39margs)\n\u001b[0;32m     70\u001b[0m \u001b[38;5;28;01mexcept\u001b[39;00m \u001b[38;5;167;01mException\u001b[39;00m \u001b[38;5;28;01mas\u001b[39;00m e:\n\u001b[0;32m     71\u001b[0m     \u001b[38;5;66;03m# Normal TypeError does not print class name.\u001b[39;00m\n\u001b[1;32m---> 72\u001b[0m     \u001b[38;5;28;01mraise\u001b[39;00m \u001b[38;5;28mtype\u001b[39m(e)(\u001b[38;5;124mf\u001b[39m\u001b[38;5;124m'\u001b[39m\u001b[38;5;132;01m{\u001b[39;00mobj_cls\u001b[38;5;241m.\u001b[39m\u001b[38;5;18m__name__\u001b[39m\u001b[38;5;132;01m}\u001b[39;00m\u001b[38;5;124m: \u001b[39m\u001b[38;5;132;01m{\u001b[39;00me\u001b[38;5;132;01m}\u001b[39;00m\u001b[38;5;124m'\u001b[39m)\n",
      "\u001b[1;31mTypeError\u001b[0m: SOLO: SOLOHead: SOLOHead.__init__() got an unexpected keyword argument 'seg_feat_channels'"
     ]
    }
   ],
   "source": [
    "import os\n",
    "import mmcv\n",
    "from mmdet.datasets import build_dataset\n",
    "from mmdet.apis import train_detector\n",
    "from mmdet.models import build_detector\n",
    "from mmcv import Config\n",
    "\n",
    "\n",
    "# Путь к директории с данными\n",
    "data_path = r'C:\\Users\\AbayM\\Downloads\\solo\\SpaceVela 3D-CV 1 class fail.v16i.coco'\n",
    "\n",
    "# Загружаем конфигурационный файл для SOLOv2\n",
    "config_file = r\"C:\\Users\\AbayM\\Downloads\\solo\\SOLO\\configs\\solo\\solo_r101_fpn_8gpu_3x.py\" # Путь к конфигу SOLOv2, пример с backbone ResNet50\n",
    "cfg = Config.fromfile(config_file)\n",
    "\n",
    "# Correctly update the paths for your datasets\n",
    "\n",
    "cfg.data.train.img_prefix = r\"C:\\Users\\AbayM\\Downloads\\solo\\SpaceVela 3D-CV 1 class fail.v16i.coco\\train\"\n",
    "cfg.data.val.img_prefix = r\"C:\\Users\\AbayM\\Downloads\\solo\\SpaceVela 3D-CV 1 class fail.v16i.coco\\val\"\n",
    "cfg.data.test.img_prefix = r\"C:\\Users\\AbayM\\Downloads\\solo\\SpaceVela 3D-CV 1 class fail.v16i.coco\\test\"\n",
    "\n",
    "# Update the annotation files\n",
    "cfg.data.train.ann_file = r\"C:\\Users\\AbayM\\Downloads\\solo\\SpaceVela 3D-CV 1 class fail.v16i.coco\\annotations\\instances_train2017.json\"\n",
    "cfg.data.val.ann_file = r\"C:\\Users\\AbayM\\Downloads\\solo\\SpaceVela 3D-CV 1 class fail.v16i.coco\\annotations\\instances_val2017.json\"\n",
    "cfg.data.test.ann_file = r\"C:\\Users\\AbayM\\Downloads\\solo\\SpaceVela 3D-CV 1 class fail.v16i.coco\\annotations\\instances_val2017.json\"\n",
    "\n",
    "# If runner configuration does not exist in the config, define it manually\n",
    "cfg.runner = dict(type='EpochBasedRunner', max_epochs=12)  # Set to Epoch-based runner and specify max_epochs\n",
    "\n",
    "\n",
    "# Настройка пути для сохранения модели\n",
    "cfg.work_dir = './work_dirs/solo'\n",
    "\n",
    "# Стартуем обучение\n",
    "cfg.gpus = 1  # Используем одну видеокарту\n",
    "cfg.runner.max_epochs = 12  # Устанавливаем количество эпох\n",
    "\n",
    "# Строим модель\n",
    "model = build_detector(cfg.model)\n",
    "datasets = [build_dataset(cfg.data.train)]\n",
    "train_detector(model, datasets, cfg, distributed=False, validate=True)\n"
   ]
  },
  {
   "cell_type": "code",
   "execution_count": 17,
   "id": "c8fbba057dcd2666",
   "metadata": {
    "ExecuteTime": {
     "end_time": "2025-02-25T14:59:13.682682Z",
     "start_time": "2025-02-25T14:59:13.661985Z"
    }
   },
   "outputs": [
    {
     "ename": "AssertionError",
     "evalue": "MMCV==2.2.0 is used but incompatible. Please install mmcv>=2.0.0rc4, <2.2.0.",
     "output_type": "error",
     "traceback": [
      "\u001b[1;31m---------------------------------------------------------------------------\u001b[0m",
      "\u001b[1;31mAssertionError\u001b[0m                            Traceback (most recent call last)",
      "Cell \u001b[1;32mIn[17], line 1\u001b[0m\n\u001b[1;32m----> 1\u001b[0m \u001b[38;5;28;01mfrom\u001b[39;00m\u001b[38;5;250m \u001b[39m\u001b[38;5;21;01mmmdet\u001b[39;00m\u001b[38;5;21;01m.\u001b[39;00m\u001b[38;5;21;01mapis\u001b[39;00m\u001b[38;5;250m \u001b[39m\u001b[38;5;28;01mimport\u001b[39;00m inference_detector, show_result_pyplot\n\u001b[0;32m      2\u001b[0m \u001b[38;5;28;01mfrom\u001b[39;00m\u001b[38;5;250m \u001b[39m\u001b[38;5;21;01mmmcv\u001b[39;00m\u001b[38;5;250m \u001b[39m\u001b[38;5;28;01mimport\u001b[39;00m Config\n\u001b[0;32m      3\u001b[0m \u001b[38;5;28;01mimport\u001b[39;00m\u001b[38;5;250m \u001b[39m\u001b[38;5;21;01mmmcv\u001b[39;00m\n",
      "File \u001b[1;32m~\\anaconda3\\envs\\solo\\Lib\\site-packages\\mmdet\\__init__.py:16\u001b[0m\n\u001b[0;32m     13\u001b[0m mmengine_maximum_version \u001b[38;5;241m=\u001b[39m \u001b[38;5;124m'\u001b[39m\u001b[38;5;124m1.0.0\u001b[39m\u001b[38;5;124m'\u001b[39m\n\u001b[0;32m     14\u001b[0m mmengine_version \u001b[38;5;241m=\u001b[39m digit_version(mmengine\u001b[38;5;241m.\u001b[39m__version__)\n\u001b[1;32m---> 16\u001b[0m \u001b[38;5;28;01massert\u001b[39;00m (mmcv_version \u001b[38;5;241m>\u001b[39m\u001b[38;5;241m=\u001b[39m digit_version(mmcv_minimum_version)\n\u001b[0;32m     17\u001b[0m         \u001b[38;5;129;01mand\u001b[39;00m mmcv_version \u001b[38;5;241m<\u001b[39m digit_version(mmcv_maximum_version)), \\\n\u001b[0;32m     18\u001b[0m     \u001b[38;5;124mf\u001b[39m\u001b[38;5;124m'\u001b[39m\u001b[38;5;124mMMCV==\u001b[39m\u001b[38;5;132;01m{\u001b[39;00mmmcv\u001b[38;5;241m.\u001b[39m__version__\u001b[38;5;132;01m}\u001b[39;00m\u001b[38;5;124m is used but incompatible. \u001b[39m\u001b[38;5;124m'\u001b[39m \\\n\u001b[0;32m     19\u001b[0m     \u001b[38;5;124mf\u001b[39m\u001b[38;5;124m'\u001b[39m\u001b[38;5;124mPlease install mmcv>=\u001b[39m\u001b[38;5;132;01m{\u001b[39;00mmmcv_minimum_version\u001b[38;5;132;01m}\u001b[39;00m\u001b[38;5;124m, <\u001b[39m\u001b[38;5;132;01m{\u001b[39;00mmmcv_maximum_version\u001b[38;5;132;01m}\u001b[39;00m\u001b[38;5;124m.\u001b[39m\u001b[38;5;124m'\u001b[39m\n\u001b[0;32m     21\u001b[0m \u001b[38;5;28;01massert\u001b[39;00m (mmengine_version \u001b[38;5;241m>\u001b[39m\u001b[38;5;241m=\u001b[39m digit_version(mmengine_minimum_version)\n\u001b[0;32m     22\u001b[0m         \u001b[38;5;129;01mand\u001b[39;00m mmengine_version \u001b[38;5;241m<\u001b[39m digit_version(mmengine_maximum_version)), \\\n\u001b[0;32m     23\u001b[0m     \u001b[38;5;124mf\u001b[39m\u001b[38;5;124m'\u001b[39m\u001b[38;5;124mMMEngine==\u001b[39m\u001b[38;5;132;01m{\u001b[39;00mmmengine\u001b[38;5;241m.\u001b[39m__version__\u001b[38;5;132;01m}\u001b[39;00m\u001b[38;5;124m is used but incompatible. \u001b[39m\u001b[38;5;124m'\u001b[39m \\\n\u001b[0;32m     24\u001b[0m     \u001b[38;5;124mf\u001b[39m\u001b[38;5;124m'\u001b[39m\u001b[38;5;124mPlease install mmengine>=\u001b[39m\u001b[38;5;132;01m{\u001b[39;00mmmengine_minimum_version\u001b[38;5;132;01m}\u001b[39;00m\u001b[38;5;124m, \u001b[39m\u001b[38;5;124m'\u001b[39m \\\n\u001b[0;32m     25\u001b[0m     \u001b[38;5;124mf\u001b[39m\u001b[38;5;124m'\u001b[39m\u001b[38;5;124m<\u001b[39m\u001b[38;5;132;01m{\u001b[39;00mmmengine_maximum_version\u001b[38;5;132;01m}\u001b[39;00m\u001b[38;5;124m.\u001b[39m\u001b[38;5;124m'\u001b[39m\n\u001b[0;32m     27\u001b[0m __all__ \u001b[38;5;241m=\u001b[39m [\u001b[38;5;124m'\u001b[39m\u001b[38;5;124m__version__\u001b[39m\u001b[38;5;124m'\u001b[39m, \u001b[38;5;124m'\u001b[39m\u001b[38;5;124mversion_info\u001b[39m\u001b[38;5;124m'\u001b[39m, \u001b[38;5;124m'\u001b[39m\u001b[38;5;124mdigit_version\u001b[39m\u001b[38;5;124m'\u001b[39m]\n",
      "\u001b[1;31mAssertionError\u001b[0m: MMCV==2.2.0 is used but incompatible. Please install mmcv>=2.0.0rc4, <2.2.0."
     ]
    }
   ],
   "source": [
    "from SOLO.mmdet.models import build_detector\n",
    "from mmdet.apis import inference_detector, show_result_pyplot\n",
    "from mmcv import Config\n",
    "import mmcv\n",
    "\n",
    "# Load the config and model checkpoint\n",
    "cfg = Config.fromfile('C:/Users/AbayM/Downloads/solo/mmdetection/configs/solov2/solov2_r50_fpn_1x_coco.py')\n",
    "cfg.load_from = 'C:/Users/AbayM/Downloads/solo/work_dirs/solov2_train/latest.pth'  # Adjust to the path where your trained model is saved\n",
    "\n",
    "# Build the model for inference\n",
    "model = build_detector(cfg.model, test_cfg=cfg.test_cfg)\n",
    "checkpoint = mmcv.runner.load_checkpoint(model, cfg.load_from)\n",
    "\n",
    "# Inference on a test image\n",
    "img = 'C:/path/to/test/image.jpg'  # Replace with the actual test image path\n",
    "result = inference_detector(model, img)\n",
    "\n",
    "# Show results\n",
    "show_result_pyplot(model, img, result)\n"
   ]
  },
  {
   "cell_type": "code",
   "execution_count": 47,
   "id": "f509abb0c35def2",
   "metadata": {
    "ExecuteTime": {
     "end_time": "2025-02-25T13:07:53.983720Z",
     "start_time": "2025-02-25T13:07:53.978610Z"
    }
   },
   "outputs": [],
   "source": [
    "# Гиперпараметры обучения\n",
    "num_classes = 1  # У нас всего 1 класс \"fail\"\n",
    "batch_size = 2\n",
    "learning_rate = 0.01\n",
    "num_epochs = 50\n",
    "seed = 42  # Фиксируем random_state для воспроизводимости\n"
   ]
  },
  {
   "cell_type": "code",
   "execution_count": 49,
   "id": "c23e08bbd727b77d",
   "metadata": {
    "jupyter": {
     "is_executing": true
    }
   },
   "outputs": [],
   "source": [
    "_base_ = './solov2_r50_fpn_1x_coco.py'\n",
    "\n",
    "dataset_type = 'CocoDataset'\n",
    "data_root = 'C:/Users/AbayM/Downloads/solo/'\n",
    "\n",
    "classes = ('fail',)\n",
    "\n",
    "data = dict(\n",
    "    train=dict(\n",
    "        type=dataset_type,\n",
    "        ann_file=data_root + 'train/_annotations.coco.json',\n",
    "        img_prefix=data_root + 'train/',\n",
    "        classes=classes\n",
    "    ),\n",
    "    val=dict(\n",
    "        type=dataset_type,\n",
    "        ann_file=data_root + 'valid/_annotations.coco.json',\n",
    "        img_prefix=data_root + 'valid/',\n",
    "        classes=classes\n",
    "    ),\n",
    "    test=dict(\n",
    "        type=dataset_type,\n",
    "        ann_file=data_root + 'test/_annotations.coco.json',\n",
    "        img_prefix=data_root + 'test/',\n",
    "        classes=classes\n",
    "    )\n",
    ")\n",
    "\n",
    "model = dict(\n",
    "    roi_head=dict(\n",
    "        bbox_head=dict(num_classes=1),\n",
    "        mask_head=dict(num_classes=1)\n",
    "    )\n",
    ")\n",
    "\n",
    "random_seed = 42  # Фиксируем random_state\n"
   ]
  },
  {
   "cell_type": "code",
   "execution_count": 53,
   "id": "cf5aa9b4525d2763",
   "metadata": {},
   "outputs": [],
   "source": [
    "_base_ = './solov2_r50_fpn_1x_coco.py'\n",
    "\n",
    "# Dataset settings\n",
    "dataset_type = 'CocoDataset'\n",
    "data_root = 'C:/Users/AbayM/Downloads/solo/'\n",
    "\n",
    "classes = ('fail',)\n",
    "\n",
    "data = dict(\n",
    "    train=dict(\n",
    "        type=dataset_type,\n",
    "        ann_file=data_root + 'train/_annotations.coco.json',\n",
    "        img_prefix=data_root + 'train/',\n",
    "        classes=classes\n",
    "    ),\n",
    "    val=dict(\n",
    "        type=dataset_type,\n",
    "        ann_file=data_root + 'valid/_annotations.coco.json',\n",
    "        img_prefix=data_root + 'valid/',\n",
    "        classes=classes\n",
    "    ),\n",
    "    test=dict(\n",
    "        type=dataset_type,\n",
    "        ann_file=data_root + 'test/_annotations.coco.json',\n",
    "        img_prefix=data_root + 'test/',\n",
    "        classes=classes\n",
    "    )\n",
    ")\n",
    "\n",
    "# Model settings\n",
    "model = dict(\n",
    "    type='SOLO',\n",
    "    pretrained='torchvision://resnet101',\n",
    "    backbone=dict(\n",
    "        type='ResNet',\n",
    "        depth=101,\n",
    "        num_stages=4,\n",
    "        out_indices=(0, 1, 2, 3),\n",
    "        frozen_stages=1,\n",
    "        style='pytorch',\n",
    "        init_cfg=dict(type='Pretrained', checkpoint='torchvision://resnet101')\n",
    "    ),\n",
    "    neck=dict(\n",
    "        type='FPN',\n",
    "        in_channels=[256, 512, 1024, 2048],\n",
    "        out_channels=256,\n",
    "        start_level=0,\n",
    "        num_outs=5\n",
    "    ),\n",
    "    bbox_head=dict(\n",
    "        type='SOLOHead',\n",
    "        num_classes=1,  # Adjusted for a single class\n",
    "        in_channels=256,\n",
    "        stacked_convs=7,\n",
    "        strides=[8, 8, 16, 32, 32],\n",
    "        scale_ranges=((1, 96), (48, 192), (96, 384), (192, 768), (384, 2048)),\n",
    "        sigma=0.2,\n",
    "        num_grids=[40, 36, 24, 16, 12],\n",
    "        cate_down_pos=0,\n",
    "        with_deform=False,\n",
    "        loss_ins=dict(\n",
    "            type='DiceLoss',\n",
    "            use_sigmoid=True,\n",
    "            loss_weight=3.0\n",
    "        ),\n",
    "        loss_cate=dict(\n",
    "            type='FocalLoss',\n",
    "            use_sigmoid=True,\n",
    "            gamma=2.0,\n",
    "            alpha=0.25,\n",
    "            loss_weight=1.0\n",
    "        ),\n",
    "    )\n",
    ")\n",
    "\n",
    "# Optimizer and Learning Rate Schedule\n",
    "optimizer = dict(type='SGD', lr=0.01, momentum=0.9, weight_decay=0.0001)\n",
    "optimizer_config = dict(grad_clip=dict(max_norm=35, norm_type=2))\n",
    "\n",
    "lr_config = dict(\n",
    "    policy='step',\n",
    "    warmup='linear',\n",
    "    warmup_iters=500,\n",
    "    warmup_ratio=0.001,\n",
    "    step=[40, 80]\n",
    ")\n",
    "\n",
    "# Training settings\n",
    "total_epochs = 100\n",
    "checkpoint_config = dict(interval=10)\n",
    "evaluation = dict(interval=1, metric=['bbox', 'segm'])\n",
    "log_config = dict(\n",
    "    interval=50,\n",
    "    hooks=[dict(type='TextLoggerHook')]\n",
    ")\n",
    "\n",
    "dist_params = dict(backend='nccl')\n",
    "log_level = 'INFO'\n",
    "load_from = None\n",
    "resume_from = None\n",
    "workflow = [('train', 1)]\n",
    "\n",
    "random_seed = 42\n",
    "\n",
    "# Evaluation and Visualization\n",
    "work_dir = './work_dirs/solo_custom/'\n",
    "\n",
    "visualization = dict(\n",
    "    type='TensorboardLoggerHook',\n",
    "    log_dir=work_dir + '/logs'\n",
    ")\n",
    "\n",
    "def visualize_results(result_file, dataset):\n",
    "    from mmdet.apis import init_detector, inference_detector, show_result_pyplot\n",
    "    import mmcv\n",
    "    \n",
    "    config_file = work_dir + 'latest.pth'\n",
    "    model = init_detector(config_file, result_file, device='cuda:0')\n",
    "    img = dataset + '/test/sample.jpg'  # Change to any test image\n",
    "    result = inference_detector(model, img)\n",
    "    show_result_pyplot(model, img, result, score_thr=0.3)\n",
    "\n",
    "\n"
   ]
  },
  {
   "cell_type": "code",
   "execution_count": null,
   "id": "e857e2f7-b69c-4d0a-8807-cc6bc47e1085",
   "metadata": {},
   "outputs": [],
   "source": []
  }
 ],
 "metadata": {
  "kernelspec": {
   "display_name": "Python [conda env:base] *",
   "language": "python",
   "name": "conda-base-py"
  },
  "language_info": {
   "codemirror_mode": {
    "name": "ipython",
    "version": 3
   },
   "file_extension": ".py",
   "mimetype": "text/x-python",
   "name": "python",
   "nbconvert_exporter": "python",
   "pygments_lexer": "ipython3",
   "version": "3.12.7"
  }
 },
 "nbformat": 4,
 "nbformat_minor": 5
}
